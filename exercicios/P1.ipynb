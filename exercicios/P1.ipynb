{
 "cells": [
  {
   "cell_type": "code",
   "execution_count": 1,
   "id": "0667473e-0bbd-4219-9c1b-7dd31f7dd429",
   "metadata": {},
   "outputs": [],
   "source": [
    "from numpy import array, zeros\n",
    "import numpy as np\n",
    "import matplotlib.pyplot as plt\n",
    "from scipy.misc import derivative"
   ]
  },
  {
   "cell_type": "markdown",
   "id": "c1134152-78b4-4925-85d1-a871f9bc39fd",
   "metadata": {},
   "source": [
    "Questão 2: Sistema Linear"
   ]
  },
  {
   "cell_type": "code",
   "execution_count": 2,
   "id": "99c8331f-b6c2-4217-be07-143685f8d499",
   "metadata": {},
   "outputs": [],
   "source": [
    "def LU_Decomposition_method(A, b):  # cria-se a função do método\n",
    "    m = len(A)\n",
    "    y = np.zeros(m)\n",
    "    x = np.zeros(m)\n",
    "    U = A\n",
    "    L = np.zeros([m, m])\n",
    "    for k in range(0, m):\n",
    "        for r in range(0, m):\n",
    "            if (k == r):\n",
    "                L[k, r] = 1\n",
    "            if (k < r):\n",
    "                factor = (A[r, k]/A[k, k])\n",
    "                L[r, k] = factor\n",
    "                for c in range(0, m):\n",
    "                    U[r, c] = A[r, c] - (factor * A[k, c])\n",
    "    A = np.zeros([m, m])\n",
    "    for r in range(0, m):\n",
    "        for c in range(0, m):\n",
    "            for k in range(0, m):\n",
    "                A[r, c] += (L[r, k] * U[k, c])\n",
    "    print('A')\n",
    "    print(A)\n",
    "    print('L')\n",
    "    print(L)\n",
    "    print()\n",
    "    print('U')\n",
    "    print(U)\n",
    "    # RESOLUÇÃO DAS EQUAÇÕES MATRICIAIS\n",
    "    ###################################\n",
    "    y = np.linalg.solve(L, b)\n",
    "    x = np.linalg.solve(U, y)\n",
    "    ###################################\n",
    "    f = 'SOLUÇÃO DO SISTEMA'\n",
    "    print('-'*(len(f)+32))\n",
    "    print(f'{f:^50}')\n",
    "    print('-'*(len(f)+32))\n",
    "    print('x =')\n",
    "    print(x)\n",
    "    print('Onde: ')\n",
    "    for c in range(0, len(x)):\n",
    "        print(f'\\t x[{c}] = {x[c]} \\n')\n",
    "    return x"
   ]
  },
  {
   "cell_type": "code",
   "execution_count": 3,
   "id": "36efdc96-7363-4396-bea4-cffe1a25ea2d",
   "metadata": {},
   "outputs": [
    {
     "name": "stdout",
     "output_type": "stream",
     "text": [
      "A\n",
      "[[1. 1. 1. 2.]\n",
      " [2. 1. 0. 2.]\n",
      " [0. 1. 1. 1.]\n",
      " [2. 0. 1. 2.]]\n",
      "L\n",
      "[[ 1.  0.  0.  0.]\n",
      " [ 2.  1.  0.  0.]\n",
      " [ 0. -1.  1.  0.]\n",
      " [ 2.  2. -3.  1.]]\n",
      "\n",
      "U\n",
      "[[ 1  1  1  2]\n",
      " [ 0 -1 -2 -2]\n",
      " [ 0  0 -1 -1]\n",
      " [ 0  0  0 -1]]\n",
      "--------------------------------------------------\n",
      "                SOLUÇÃO DO SISTEMA                \n",
      "--------------------------------------------------\n",
      "x =\n",
      "[5. 5. 5. 5.]\n",
      "Onde: \n",
      "\t x[0] = 5.0 \n",
      "\n",
      "\t x[1] = 5.0 \n",
      "\n",
      "\t x[2] = 5.0 \n",
      "\n",
      "\t x[3] = 5.0 \n",
      "\n"
     ]
    }
   ],
   "source": [
    "A = np.array([[1, 1, 1, 2],\n",
    "              [2, 1, 0, 2],\n",
    "              [0, 1, 1, 1],\n",
    "              [2, 0, 1, 2]])\n",
    "b = np.transpose([25, 25, 15, 25])\n",
    "Res=LU_Decomposition_method(A,b)"
   ]
  },
  {
   "cell_type": "markdown",
   "id": "8dce631d-73f8-4ade-a709-eeda0b566040",
   "metadata": {},
   "source": [
    "Questão 3: Problema de raízes"
   ]
  },
  {
   "cell_type": "code",
   "execution_count": 4,
   "id": "854203c7-ea5c-41e0-ae3f-7f7835634470",
   "metadata": {},
   "outputs": [],
   "source": [
    "def F(x) : \n",
    "    return x*x - 4*x + 2\n",
    "def d(x): #função da derivada de F no ponto x\n",
    "    return derivative(F, x)\n",
    "\n",
    "def newtonraphson(xi,TOL, iter=100):\n",
    "    i = 0\n",
    "    e=100\n",
    "    while abs(e) >= TOL and i<iter:\n",
    "        x0=xi\n",
    "        xi=xi-F(xi)/d(xi) # X(i++) = x(i) - f(x(i))/d(f(x(i)))\n",
    "        e=abs(((xi - x0)/xi))*100 \n",
    "        i=i+1\n",
    "        print(\"Iteração: %d \\n Xi: %f \\n F(xi): %f \\n Ea: %f\" % (i, xi, F(xi), e))\n",
    "    return{\"x\": xi, \"i\": i} "
   ]
  },
  {
   "cell_type": "code",
   "execution_count": 5,
   "id": "d11c23b5-2445-4527-870b-99da3b8c92c9",
   "metadata": {},
   "outputs": [
    {
     "name": "stdout",
     "output_type": "stream",
     "text": [
      "Iteração: 1 \n",
      " Xi: 3.500000 \n",
      " F(xi): 0.250000 \n",
      " Ea: 14.285714\n",
      "Iteração: 2 \n",
      " Xi: 3.416667 \n",
      " F(xi): 0.006944 \n",
      " Ea: 2.439024\n",
      "Iteração: 3 \n",
      " Xi: 3.414216 \n",
      " F(xi): 0.000006 \n",
      " Ea: 0.071788\n",
      "Iteração: 4 \n",
      " Xi: 3.414214 \n",
      " F(xi): 0.000000 \n",
      " Ea: 0.000062\n"
     ]
    },
    {
     "data": {
      "text/plain": [
       "{'x': 3.4142135623746896, 'i': 4}"
      ]
     },
     "execution_count": 5,
     "metadata": {},
     "output_type": "execute_result"
    }
   ],
   "source": [
    "# Letra A - x0 = 3\n",
    "newtonraphson(3,0.01) "
   ]
  },
  {
   "cell_type": "code",
   "execution_count": 6,
   "id": "0fea52f1-4cb2-4a48-bbbd-6a85bf885952",
   "metadata": {},
   "outputs": [
    {
     "name": "stdout",
     "output_type": "stream",
     "text": [
      "Iteração: 1 \n",
      " Xi: -0.700000 \n",
      " F(xi): 5.290000 \n",
      " Ea: 328.571429\n",
      "Iteração: 2 \n",
      " Xi: 0.279630 \n",
      " F(xi): 0.959674 \n",
      " Ea: 350.331126\n",
      "Iteração: 3 \n",
      " Xi: 0.558545 \n",
      " F(xi): 0.077794 \n",
      " Ea: 49.936028\n",
      "Iteração: 4 \n",
      " Xi: 0.585529 \n",
      " F(xi): 0.000728 \n",
      " Ea: 4.608548\n",
      "Iteração: 5 \n",
      " Xi: 0.585786 \n",
      " F(xi): 0.000000 \n",
      " Ea: 0.043940\n",
      "Iteração: 6 \n",
      " Xi: 0.585786 \n",
      " F(xi): 0.000000 \n",
      " Ea: 0.000004\n"
     ]
    },
    {
     "data": {
      "text/plain": [
       "{'x': 0.5857864376269047, 'i': 6}"
      ]
     },
     "execution_count": 6,
     "metadata": {},
     "output_type": "execute_result"
    }
   ],
   "source": [
    "# Letra B - x0 = -3\n",
    "newtonraphson(-3,0.01) "
   ]
  },
  {
   "cell_type": "markdown",
   "id": "e74f64b4-0f69-4ee1-bdf7-41cba24e7ec1",
   "metadata": {},
   "source": [
    "Questão 4: Gauss-Siedel"
   ]
  },
  {
   "cell_type": "code",
   "execution_count": 7,
   "id": "037abd7a-0810-4248-a72e-1dd16655f773",
   "metadata": {},
   "outputs": [],
   "source": [
    "def seidel(a, x ,b):\n",
    "    #Finding length of a(2) \n",
    "    maxit = 10\n",
    "    es=0.05\n",
    "    iter = 0\n",
    "    n = len(a)\n",
    "    x0 = zeros(n)\n",
    "    er = zeros(n)\n",
    "    # for loop for 3 times as to calculate x, y , z\n",
    "\n",
    "    while True:\n",
    "        for j in range(0, n):        \n",
    "            # temp variable d to store b[j]\n",
    "            d = b[j]                  \n",
    "          \n",
    "            # to calculate respective xi, yi, zi\n",
    "            for i in range(0, n):     \n",
    "                if(j != i):\n",
    "                    d-=a[j][i] * x[i]\n",
    "            # updating the value of our solution\n",
    "                    x0[j] = x[j]\n",
    "                    x[j] = d / a[j][j]\n",
    "                    if x[j] != 0:\n",
    "                        er[j] = abs((x[j] - x0[j])/x[j])*100\n",
    "                        print(f'x= {x}')\n",
    "                        print(f'xv= {x0}')\n",
    "                        print(f'erro = {er}')\n",
    "        # returning our updated solution  \n",
    "        iter = iter+1\n",
    "        print(f'iteração = {iter}')\n",
    "        if max(er)<=es or iter >= maxit:\n",
    "            break\n",
    "    print(f'Com {iter} iterações: \\n x = \\n {x}')\n",
    "    print(f'erro = {er}')"
   ]
  },
  {
   "cell_type": "code",
   "execution_count": 8,
   "id": "56cb653d-824f-47b7-99b5-47057e7779ce",
   "metadata": {},
   "outputs": [
    {
     "name": "stdout",
     "output_type": "stream",
     "text": [
      "x= [5.714285714285714, 0]\n",
      "xv= [0. 0.]\n",
      "erro = [100.   0.]\n",
      "x= [5.714285714285714, 1.4285714285714286]\n",
      "xv= [0. 0.]\n",
      "erro = [100. 100.]\n",
      "iteração = 1\n",
      "x= [6.122448979591836, 1.4285714285714286]\n",
      "xv= [5.71428571 0.        ]\n",
      "erro = [  6.66666667 100.        ]\n",
      "x= [6.122448979591836, 1.530612244897959]\n",
      "xv= [5.71428571 1.42857143]\n",
      "erro = [6.66666667 6.66666667]\n",
      "iteração = 2\n",
      "x= [6.151603498542274, 1.530612244897959]\n",
      "xv= [6.12244898 1.42857143]\n",
      "erro = [0.47393365 6.66666667]\n",
      "x= [6.151603498542274, 1.5379008746355685]\n",
      "xv= [6.12244898 1.53061224]\n",
      "erro = [0.47393365 0.47393365]\n",
      "iteração = 3\n",
      "x= [6.153685964181591, 1.5379008746355685]\n",
      "xv= [6.1516035  1.53061224]\n",
      "erro = [0.03384095 0.47393365]\n",
      "x= [6.153685964181591, 1.5384214910453977]\n",
      "xv= [6.1516035  1.53790087]\n",
      "erro = [0.03384095 0.03384095]\n",
      "iteração = 4\n",
      "Com 4 iterações: \n",
      " x = \n",
      " [6.153685964181591, 1.5384214910453977]\n",
      "erro = [0.03384095 0.03384095]\n"
     ]
    }
   ],
   "source": [
    "A = array([[35, -10],\n",
    "           [-10, 40]])\n",
    "b = array([200, 0])\n",
    "x = [0, 0] \n",
    "\n",
    "\n",
    "seidel(A,x,b)"
   ]
  },
  {
   "cell_type": "markdown",
   "id": "3f5ea72e-d4a3-41a0-a9ca-19bb707c4937",
   "metadata": {},
   "source": [
    "Questão 5: Newton-Raphson "
   ]
  },
  {
   "cell_type": "code",
   "execution_count": 9,
   "id": "9e952c95-a47c-4378-ba32-20d2c45db5b3",
   "metadata": {},
   "outputs": [
    {
     "name": "stdout",
     "output_type": "stream",
     "text": [
      "Com 1 iterações:\n",
      "Com erro: [50. 50.] \n",
      " x = \n",
      " [2. 2.]\n",
      "Com 2 iterações:\n",
      "Com erro: [11.11111111 11.11111111] \n",
      " x = \n",
      " [1.8 1.8]\n",
      "Com 3 iterações:\n",
      "Com erro: [0.48543689 0.48543689] \n",
      " x = \n",
      " [1.79130435 1.79130435]\n",
      "Com 4 iterações:\n",
      "Com erro: [0.00092114 0.00092114] \n",
      " x = \n",
      " [1.79128785 1.79128785]\n",
      "Com 4 iterações: \n",
      " x = \n",
      " [1.79128785 1.79128785]\n"
     ]
    }
   ],
   "source": [
    "from math import pi, exp\n",
    "from numpy import array, divide, linalg\n",
    "\n",
    "x = [1, 1]\n",
    "\n",
    "iter = 0\n",
    "maxit = 500\n",
    "es = 0.1\n",
    "x0 = 100\n",
    "while True:\n",
    "    F = array([2*x[0] + 2*x[1]*x[0] - 10,\n",
    "                  2*x[1] + 2*x[1]*x[0] - 10])      # Matriz de funções\n",
    "    J = array([[2 + 2*x[1],    2*x[0]],\n",
    "         [2*x[1], 2 + 2*x[0]]]) \n",
    "    dx = linalg.lstsq(J,F,rcond=None)[0]\n",
    "    x0 = x\n",
    "    x = x - dx\n",
    "    iter += 1\n",
    "    ea = abs((x-x0)/x)*100\n",
    "    print(f'Com {iter} iterações:')\n",
    "    print(f'Com erro: {ea} \\n x = \\n {x}')\n",
    "    if iter >= maxit or max(ea) <= es:\n",
    "        print(f'Com {iter} iterações: \\n x = \\n {x}')\n",
    "        break"
   ]
  },
  {
   "cell_type": "code",
   "execution_count": null,
   "id": "acc96f54-0838-4568-8807-f422af50af6a",
   "metadata": {},
   "outputs": [],
   "source": []
  }
 ],
 "metadata": {
  "kernelspec": {
   "display_name": "Python 3 (ipykernel)",
   "language": "python",
   "name": "python3"
  },
  "language_info": {
   "codemirror_mode": {
    "name": "ipython",
    "version": 3
   },
   "file_extension": ".py",
   "mimetype": "text/x-python",
   "name": "python",
   "nbconvert_exporter": "python",
   "pygments_lexer": "ipython3",
   "version": "3.10.1"
  }
 },
 "nbformat": 4,
 "nbformat_minor": 5
}
