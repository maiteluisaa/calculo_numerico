{
 "cells": [
  {
   "cell_type": "markdown",
   "id": "282ed1d6",
   "metadata": {},
   "source": [
    "## Cálculo Numérico - Exercícios Propostos \n",
    "\n",
    "Maitê Luisa da Silva"
   ]
  },
  {
   "cell_type": "code",
   "execution_count": 1,
   "id": "5b394902",
   "metadata": {},
   "outputs": [],
   "source": [
    "import numpy as np\n",
    "import matplotlib.pyplot as plt\n",
    "from scipy.misc import derivative"
   ]
  },
  {
   "cell_type": "markdown",
   "id": "15ca4db9",
   "metadata": {},
   "source": [
    "1. Calcule o comprimento do cabo (C) entre duas torres de transmissão (i.e. a catenária) [4]. A distância entre as torres é de d = 500m. A flecha máxima permitida é fmax = 50m. Flecha é a distância vertical entre uma reta que liga os dois pontos de fixação. A flecha (f) depende do comprimento do vão (d) e da tração (C) aplicada ao cabo. O seu modelo matemático pode ser:\n",
    "\n",
    "\n",
    "                                                 f = C*(cosh(d/(2C))-1)\n",
    "\n",
    "                                              f(C) = C*(cosh(d/(2C))-1) - f"
   ]
  },
  {
   "cell_type": "code",
   "execution_count": 2,
   "id": "6814355b",
   "metadata": {},
   "outputs": [],
   "source": [
    "def f(c, d=500, f=50): return c*np.cosh(d/(2*c))-f-c\n",
    "\n",
    "def bissection(x1,x2,TOL,iter=100):\n",
    "    \n",
    "    if f(x1)*f(x2) > 0:\n",
    "        print(\"Nenhuma raíz encontrada neste intervalo.\")\n",
    "    else:\n",
    "        i=0\n",
    "        e=abs(f(x2)-f(x1))\n",
    "        \n",
    "    while e > TOL and i < iter:\n",
    "        mp=(x1+x2)/2.0 #ponto médio\n",
    "        if f(mp) ==0:\n",
    "            return[mp, i]\n",
    "        i = i + 1 # é contado como iteração a cada bissecção\n",
    "        if f(x1)*f(mp)<0:\n",
    "            x2=mp\n",
    "        else: # f(x2)*f(mp)<0\n",
    "            x1=mp\n",
    "        e=abs(f(x2)-f(x1))\n",
    "    return{\"mp\":mp, \"i\": i}"
   ]
  },
  {
   "cell_type": "code",
   "execution_count": 3,
   "id": "4f01a1c6",
   "metadata": {},
   "outputs": [
    {
     "name": "stdout",
     "output_type": "stream",
     "text": [
      "{'mp': 633.1621932983398, 'i': 19}\n"
     ]
    }
   ],
   "source": [
    "res=bissection(620,680,0.00001)\n",
    "print(res)"
   ]
  },
  {
   "cell_type": "code",
   "execution_count": 4,
   "id": "f2566e22",
   "metadata": {},
   "outputs": [
    {
     "data": {
      "image/png": "[encoded data removed]",
      "text/plain": [
       "<Figure size 432x288 with 1 Axes>"
      ]
     },
     "metadata": {
      "needs_background": "light"
     },
     "output_type": "display_data"
    }
   ],
   "source": [
    "x=np.linspace(10,700)\n",
    "plt.ylim(0,50)\n",
    "plt.plot(x,f(x))\n",
    "plt.axvline(x=633.16219,c='k', ls = '--')\n",
    "plt.title('Flecha em função de C')\n",
    "plt.xlabel('Comprimento (m)')\n",
    "plt.ylabel('Flecha (m)')\n",
    "plt.show()"
   ]
  },
  {
   "cell_type": "markdown",
   "id": "60695794",
   "metadata": {},
   "source": [
    "2. Um retificador de meia onda a diodo alimenta uma carga indutiva-resistiva (f = 1 kHz, L = 100 mH e R = 1 kohm). Encontre o ângulo para o qual a corrente Id no diodo se anula. Considere o seguinte modelo matemático:\n",
    "\n",
    "                                    Id = sen(beta-phi)+sen(phi)*e^(-beta/tan(phi))\n",
    "                                            tan(phi) = 2*pi*f*L/R"
   ]
  },
  {
   "cell_type": "code",
   "execution_count": 5,
   "id": "f613b673",
   "metadata": {},
   "outputs": [],
   "source": [
    "def Id(beta, f=1000, L=0.1, R=1000): #função da corrente\n",
    "    return np.sin(beta*np.pi/180-np.arctan(2*np.pi*f*L/R))+np.sin(np.arctan(2*np.pi*f*L/R))*np.exp(-beta*(np.pi/180)/(2*np.pi*f*L/R)) \n",
    "#beta está em graus\n",
    "\n",
    "def d(x): #função da derivada de Id no ponto x\n",
    "    return derivative(Id, x)\n",
    "\n",
    "def newtonraphson(xi,TOL, iter=100):\n",
    "    i = 0\n",
    "    while abs(Id(xi)/d(xi)) > TOL and i<iter:\n",
    "        xi=xi-Id(xi)/d(xi) # X(i++) = x(i) - f(x(i))/d(f(x(i)))\n",
    "        i=i+1\n",
    "    return{\"x\": xi, \"i\": i} #apresentando o beta em graus"
   ]
  },
  {
   "cell_type": "code",
   "execution_count": 6,
   "id": "ce978943",
   "metadata": {},
   "outputs": [
    {
     "data": {
      "text/plain": [
       "{'x': 212.22581792320096, 'i': 4}"
      ]
     },
     "execution_count": 6,
     "metadata": {},
     "output_type": "execute_result"
    }
   ],
   "source": [
    "newtonraphson(270,0.00001) "
   ]
  },
  {
   "cell_type": "code",
   "execution_count": 7,
   "id": "c720efd3",
   "metadata": {},
   "outputs": [
    {
     "data": {
      "image/png": "[encoded data removed]",
      "text/plain": [
       "<Figure size 432x288 with 1 Axes>"
      ]
     },
     "metadata": {
      "needs_background": "light"
     },
     "output_type": "display_data"
    }
   ],
   "source": [
    "x=np.linspace(0,360)\n",
    "plt.plot(x,Id(x))\n",
    "plt.ylim(0,1.1)\n",
    "plt.axvline(x=212.22581,c='k', ls = '--')\n",
    "plt.title('Corrente em função de beta')\n",
    "plt.xlabel('Beta (°)')\n",
    "plt.ylabel('Corrente (A)')\n",
    "plt.show()"
   ]
  }
 ],
 "metadata": {
  "kernelspec": {
   "display_name": "Python 3",
   "language": "python",
   "name": "python3"
  },
  "language_info": {
   "codemirror_mode": {
    "name": "ipython",
    "version": 3
   },
   "file_extension": ".py",
   "mimetype": "text/x-python",
   "name": "python",
   "nbconvert_exporter": "python",
   "pygments_lexer": "ipython3",
   "version": "3.8.8"
  }
 },
 "nbformat": 4,
 "nbformat_minor": 5
}
