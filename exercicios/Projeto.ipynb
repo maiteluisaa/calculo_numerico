{
 "cells": [
  {
   "cell_type": "code",
   "execution_count": 1,
   "id": "e471256d",
   "metadata": {},
   "outputs": [
    {
     "name": "stderr",
     "output_type": "stream",
     "text": [
      "<ipython-input-1-82d34badc778>:26: RuntimeWarning: invalid value encountered in sqrt\n",
      "  def f(alfa, V0rms=120, Vin=240): return V0rms - Vin*np.sqrt(1 - alfa*np.pi/(180*np.pi) + np.sin(2*alfa*np.pi/180)/(2*np.pi))\n"
     ]
    },
    {
     "data": {
      "image/png": "[encoded data removed]",
      "text/plain": [
       "<Figure size 432x288 with 1 Axes>"
      ]
     },
     "metadata": {
      "needs_background": "light"
     },
     "output_type": "display_data"
    },
    {
     "name": "stdout",
     "output_type": "stream",
     "text": [
      "{'Após 20 iterações, chegou-se em 113.826776.'}\n"
     ]
    }
   ],
   "source": [
    "import numpy as np\n",
    "import matplotlib.pyplot as plt\n",
    "\n",
    "def bissection(x1,x2,TOL,iter=100):\n",
    "    \n",
    "    if f(x1)*f(x2) > 0:\n",
    "        print(\"Nenhuma raíz encontrada neste intervalo.\")\n",
    "    else:\n",
    "        i=0\n",
    "        e=abs(f(x2)-f(x1))\n",
    "        \n",
    "    while e > TOL and i < iter:\n",
    "        mp=(x1+x2)/2.0 #ponto médio\n",
    "        if f(mp) ==0:\n",
    "            return[mp, i]\n",
    "        i = i + 1 # é contado como iteração a cada bisseção\n",
    "        if f(x1)*f(mp)<0:\n",
    "            x2=mp\n",
    "        else: # f(x2)*f(mp)<0\n",
    "            x1=mp\n",
    "        e=abs(f(x2)-f(x1))\n",
    "    return{\"Após %d iterações, chegou-se em %f.\" % (i, mp)}\n",
    "\n",
    "# Definição de f(alfa)\n",
    "\n",
    "def f(alfa, V0rms=120, Vin=240): return V0rms - Vin*np.sqrt(1 - alfa*np.pi/(180*np.pi) + np.sin(2*alfa*np.pi/180)/(2*np.pi))\n",
    "\n",
    "# Plotando f(alfa)\n",
    "\n",
    "x=np.linspace(0,360)\n",
    "plt.ylim(0,130)\n",
    "plt.plot(x,f(x))\n",
    "plt.title('Controlador de Tensão CA')\n",
    "plt.xlabel('Ângulo (°)')\n",
    "plt.ylabel('Magnitude')\n",
    "plt.show()\n",
    "\n",
    "# Aplicando o método\n",
    "res=bissection(100,125,0.0001)\n",
    "print(res)"
   ]
  }
 ],
 "metadata": {
  "kernelspec": {
   "display_name": "Python 3",
   "language": "python",
   "name": "python3"
  },
  "language_info": {
   "codemirror_mode": {
    "name": "ipython",
    "version": 3
   },
   "file_extension": ".py",
   "mimetype": "text/x-python",
   "name": "python",
   "nbconvert_exporter": "python",
   "pygments_lexer": "ipython3",
   "version": "3.8.8"
  }
 },
 "nbformat": 4,
 "nbformat_minor": 5
}
